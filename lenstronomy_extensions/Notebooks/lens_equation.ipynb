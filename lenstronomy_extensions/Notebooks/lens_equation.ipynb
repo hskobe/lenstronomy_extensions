{
 "cells": [
  {
   "cell_type": "markdown",
   "metadata": {},
   "source": [
    "## lenstronomy lens equation solver and flux ratios computation example notebook"
   ]
  },
  {
   "cell_type": "code",
   "execution_count": 37,
   "metadata": {},
   "outputs": [],
   "source": [
    "# import standard python modules\n",
    "import copy\n",
    "import numpy as np\n",
    "import matplotlib.pyplot as plt\n",
    "from mpl_toolkits.axes_grid1 import AxesGrid, make_axes_locatable\n",
    "%matplotlib inline\n",
    "\n",
    "\n",
    "# import the lens model class \n",
    "from lenstronomy.LensModel.lens_model import LensModel\n",
    "from lenstronomy.LensModel.lens_model_extensions import LensModelExtensions\n",
    "# import the lens equation solver class (finding image plane positions of a source position)\n",
    "from lenstronomy.LensModel.Solver.lens_equation_solver import LensEquationSolver\n",
    "# import lens model solver with 4 image positions constrains\n",
    "from lenstronomy.LensModel.Solver.solver4point import Solver4Point #Solver4Point\n",
    "from lenstronomy.LensModel.Solver.solver2point import Solver2Point #Solver4Point"
   ]
  },
  {
   "cell_type": "code",
   "execution_count": 38,
   "metadata": {},
   "outputs": [],
   "source": [
    "# chose a lens model (list of parameterized lens models)\n",
    "lens_model_list = ['PEMD', 'SHEAR_GAMMA_PSI'] #['EPL'] #, 'SHEAR_GAMMA_PSI'] #, 'NFW', 'NFW']\n",
    "\n",
    "#initialize classes with the specific lens models\n",
    "lensModel = LensModel(lens_model_list)\n",
    "lensEquationSolver = LensEquationSolver(lensModel)\n",
    "solver2Point = Solver2Point(lensModel=lensModel, solver_type='THETA_E_ELLIPSE')\n",
    "solver4Point = Solver4Point(lensModel=lensModel, solver_type='PROFILE_SHEAR')"
   ]
  },
  {
   "cell_type": "code",
   "execution_count": 39,
   "metadata": {},
   "outputs": [
    {
     "name": "stdout",
     "output_type": "stream",
     "text": [
      "-0.28503264215938806 -0.13189737927927858\n",
      "image positions:  [4.68951229 0.34106153 1.22854335] [-1.55409092 -4.65686554  4.16077645]\n",
      "F200LP source center: [-0.28503264 -0.28503264 -0.28503264] [-0.13189738 -0.13189738 -0.13189738]\n",
      "F200LP kwargs_fit: [{'theta_E': 4.923897427698462, 'gamma': 2.0, 'e1': -0.20087942999743402, 'e2': 0.05268333713284188, 'center_x': 0.0038999843035251564, 'center_y': 0.00931611330505573}, {'gamma_ext': -0.001807834284974115, 'psi_ext': -0.02465806220709, 'ra_0': 0, 'dec_0': 0}]\n"
     ]
    }
   ],
   "source": [
    "# DCLS1507+0522\n",
    "\n",
    "# # x_image, y_image F200LP known values\n",
    "# x_image_F140W = [2.1056694526151, -2.1446663684802947]\n",
    "# y_image_F140W = [0.16656821131187893, -0.09666993968892257]\n",
    "\n",
    "# kwargs_lens_init_F140W = [{'theta_E': 4.923897427699637, \n",
    "#                             'gamma': 2.0, \n",
    "#                             'e1': -0.20087942999736097, \n",
    "#                             'e2': 0.05268333713312042, \n",
    "#                             'center_x': 0.0038999843035251564, \n",
    "#                             'center_y': 0.00931611330505573}]\n",
    "\n",
    "# kwargs_fit_F140W, precision_F140W = solver2Point.constraint_lensmodel(x_pos=x_image_F140W, y_pos=y_image_F140W, \n",
    "#                                                           kwargs_list=kwargs_lens_init_F140W, xtol=1.49012e-10)\n",
    "\n",
    "# x_source_new_F140W, y_source_new_F140W = lensModel.ray_shooting(x_image_F140W, y_image_F140W, kwargs_fit_F140W)\n",
    "# print('F140W source center:', x_source_new_F140W, y_source_new_F140W)\n",
    "# print('F140W kwargs_fit:', kwargs_fit_F140W)\n",
    "\n",
    "# x_image, y_image F200LP known values\n",
    "# Image 1: 1.2285433511852109 4.1607764484457945\n",
    "# Image 2: -1.3986311119335793 4.312169573523052\n",
    "# Image 3: -3.6291087887239137 3.4710665194784394\n",
    "# Image 4: -0.8344498087021135 -1.9958577504452544\n",
    "\n",
    "x_image_F200LP = np.array([1.2285433511852109, -1.3986311119335793, -3.6291087887239137, -0.8344498087021135])\n",
    "y_image_F200LP = np.array([4.1607764484457945, 4.312169573523052, 3.4710665194784394, -1.9958577504452544])\n",
    "\n",
    "# # DCLS1507+0522_local_customlogL_fitF200LP_s1_run_11\n",
    "kwargs_pemd = {'theta_E': 4.923897427699637, \n",
    "                 'gamma': 2.0, \n",
    "                 'e1': -0.20087942999736097, \n",
    "                 'e2': 0.05268333713312042, \n",
    "                 'center_x': 0.0038999843035251564, \n",
    "                 'center_y': 0.00931611330505573}\n",
    "kwargs_shear = {'gamma_ext': -0.001807834284974115, \n",
    "                  'psi_ext': -0.02465806220709, \n",
    "                  'ra_0': 0, \n",
    "                  'dec_0': 0}\n",
    "\n",
    "# # DCLS1507+0522_local_customlogL_fitF200LP_s1_run_13\n",
    "# kwargs_pemd = {'theta_E': 4.869725983283605, \n",
    "#                'gamma': 2.0, \n",
    "#                'e1': -0.2190712079617276, \n",
    "#                'e2': 0.03047620490953712, \n",
    "#                'center_x': 0.0027477505460033825, \n",
    "#                'center_y': 0.01223789522781755}\n",
    "# kwargs_shear = {'gamma_ext': -0.05593647005675678, \n",
    "#                 'psi_ext': 0.030788955760211307, \n",
    "#                 'ra_0': 0, \n",
    "#                 'dec_0': 0}\n",
    "\n",
    "kwargs_lens_list = [kwargs_pemd, kwargs_shear]\n",
    "\n",
    "kwargs_lens_init_F200LP = copy.deepcopy(kwargs_lens_list)\n",
    "\n",
    "kwargs_lens_init_F200LP[0] = {'theta_E': 4.923897427699637, \n",
    "                            'gamma': 2.0, \n",
    "                            'e1': -0.20087942999736097, \n",
    "                            'e2': 0.05268333713312042, \n",
    "                            'center_x': 0.0038999843035251564, \n",
    "                            'center_y': 0.00931611330505573}\n",
    "\n",
    "# kwargs_fit_F200LP, precision_F200LP = solver2Point.constraint_lensmodel(x_pos=x_image_F200LP, y_pos=y_image_F200LP, \n",
    "#                                                           kwargs_list=kwargs_lens_init_F200LP, xtol=1.49012e-10)\n",
    "\n",
    "# x_source_new_F200LP, y_source_new_F200LP = lensModel.ray_shooting(x_image_F200LP, y_image_F200LP, kwargs_fit_F200LP)\n",
    "# print('F200LP source center:', x_source_new_F200LP, y_source_new_F200LP)\n",
    "# print('F200LP kwargs_fit:', kwargs_fit_F200LP)\n",
    "\n",
    "#############################################################################\n",
    "#############################################################################\n",
    "\n",
    "x_image, y_image = x_image_F200LP[0], y_image_F200LP[0]\n",
    "\n",
    "alpha_x, alpha_y = lensModel.alpha(x_image, y_image, kwargs_lens_list)\n",
    "\n",
    "x_source, y_source = x_image-alpha_x, y_image-alpha_y\n",
    "\n",
    "print(x_source, y_source)\n",
    "\n",
    "x_image, y_image = lensEquationSolver.image_position_from_source(kwargs_lens=kwargs_lens_list, sourcePos_x=x_source, sourcePos_y=y_source, \n",
    "                                                                 min_distance=0.01, search_window=10, precision_limit=10**(-10), num_iter_max=100)\n",
    "print('image positions: ', x_image, y_image)\n",
    "\n",
    "kwargs_fit_F200LP, precision_F200LP = solver2Point.constraint_lensmodel(x_pos=x_image, y_pos=y_image, \n",
    "                                                          kwargs_list=kwargs_lens_init_F200LP, xtol=1.49012e-10)\n",
    "\n",
    "x_source_new_F200LP, y_source_new_F200LP = lensModel.ray_shooting(x_image, y_image, kwargs_fit_F200LP)\n",
    "print('F200LP source center:', x_source_new_F200LP, y_source_new_F200LP)\n",
    "print('F200LP kwargs_fit:', kwargs_fit_F200LP)"
   ]
  },
  {
   "cell_type": "code",
   "execution_count": 59,
   "metadata": {},
   "outputs": [],
   "source": [
    "kwargs_fit_test, precision_test = solver4Point.constraint_lensmodel(x_pos=x_image_F200LP, y_pos=y_image_F200LP, \n",
    "                                                          kwargs_list=kwargs_lens_list, xtol=1.49012e-12)"
   ]
  },
  {
   "cell_type": "code",
   "execution_count": 60,
   "metadata": {},
   "outputs": [
    {
     "data": {
      "text/plain": [
       "[{'theta_E': 3.5823362780010566,\n",
       "  'gamma': 2.0,\n",
       "  'e1': -0.18424270041316954,\n",
       "  'e2': 0.022617353408534314,\n",
       "  'center_x': -0.6389054975957009,\n",
       "  'center_y': 0.500032208309703},\n",
       " {'gamma_ext': -0.001807834284974115,\n",
       "  'psi_ext': 627.2785003856497,\n",
       "  'ra_0': 0,\n",
       "  'dec_0': 0}]"
      ]
     },
     "execution_count": 60,
     "metadata": {},
     "output_type": "execute_result"
    }
   ],
   "source": [
    "kwargs_fit_test"
   ]
  },
  {
   "cell_type": "code",
   "execution_count": 61,
   "metadata": {},
   "outputs": [
    {
     "data": {
      "text/plain": [
       "(array([ 1.22854335, -1.39863111, -3.62910879, -0.83444981]),\n",
       " array([ 4.16077645,  4.31216957,  3.47106652, -1.99585775]))"
      ]
     },
     "execution_count": 61,
     "metadata": {},
     "output_type": "execute_result"
    }
   ],
   "source": [
    "x_image_F200LP, y_image_F200LP"
   ]
  },
  {
   "cell_type": "code",
   "execution_count": 62,
   "metadata": {},
   "outputs": [
    {
     "name": "stdout",
     "output_type": "stream",
     "text": [
      "-0.6357586484092801 1.2911562510216532\n",
      "image positions:  [-2.9092635   1.22854335  0.45445759 -0.72416427] [ 3.9677893   4.16077645  4.45908202 -2.03132016]\n"
     ]
    }
   ],
   "source": [
    "x_image, y_image = x_image_F200LP[0], y_image_F200LP[0]\n",
    "\n",
    "alpha_x, alpha_y = lensModel.alpha(x_image, y_image, kwargs_fit_test)\n",
    "\n",
    "x_source, y_source = x_image-alpha_x, y_image-alpha_y\n",
    "\n",
    "print(x_source, y_source)\n",
    "\n",
    "x_image, y_image = lensEquationSolver.image_position_from_source(kwargs_lens=kwargs_fit_test, sourcePos_x=x_source, sourcePos_y=y_source, \n",
    "                                                                 min_distance=0.01, search_window=10, precision_limit=10**(-10), num_iter_max=100)\n",
    "print('image positions: ', x_image, y_image)"
   ]
  },
  {
   "cell_type": "code",
   "execution_count": 63,
   "metadata": {},
   "outputs": [
    {
     "name": "stdout",
     "output_type": "stream",
     "text": [
      "-0.5115122973124159 1.074229053237786\n",
      "image positions:  [ 2.74568741 -2.94660606 -1.39863111 -0.95780316] [ 2.71796078  3.63933242  4.31216957 -2.22154292]\n"
     ]
    }
   ],
   "source": [
    "x_image, y_image = x_image_F200LP[1], y_image_F200LP[1]\n",
    "\n",
    "alpha_x, alpha_y = lensModel.alpha(x_image, y_image, kwargs_fit_test)\n",
    "\n",
    "x_source, y_source = x_image-alpha_x, y_image-alpha_y\n",
    "\n",
    "print(x_source, y_source)\n",
    "\n",
    "x_image, y_image = lensEquationSolver.image_position_from_source(kwargs_lens=kwargs_fit_test, sourcePos_x=x_source, sourcePos_y=y_source, \n",
    "                                                                 min_distance=0.01, search_window=10, precision_limit=10**(-10), num_iter_max=100)\n",
    "print('image positions: ', x_image, y_image)"
   ]
  },
  {
   "cell_type": "code",
   "execution_count": 64,
   "metadata": {},
   "outputs": [
    {
     "name": "stdout",
     "output_type": "stream",
     "text": [
      "-0.7855964022416688 1.2575719689789162\n",
      "image positions:  [-3.62910879 -0.5067458 ] [ 3.47106652 -2.06127057]\n"
     ]
    }
   ],
   "source": [
    "x_image, y_image = x_image_F200LP[2], y_image_F200LP[2]\n",
    "\n",
    "alpha_x, alpha_y = lensModel.alpha(x_image, y_image, kwargs_fit_test)\n",
    "\n",
    "x_source, y_source = x_image-alpha_x, y_image-alpha_y\n",
    "\n",
    "print(x_source, y_source)\n",
    "\n",
    "x_image, y_image = lensEquationSolver.image_position_from_source(kwargs_lens=kwargs_fit_test, sourcePos_x=x_source, sourcePos_y=y_source, \n",
    "                                                                 min_distance=0.01, search_window=10, precision_limit=10**(-10), num_iter_max=100)\n",
    "print('image positions: ', x_image, y_image)"
   ]
  },
  {
   "cell_type": "code",
   "execution_count": 65,
   "metadata": {},
   "outputs": [
    {
     "name": "stdout",
     "output_type": "stream",
     "text": [
      "-0.5539130040319626 1.3160609926527744\n",
      "image positions:  [ 1.91805336 -0.83444981] [ 3.80257696 -1.99585775]\n"
     ]
    }
   ],
   "source": [
    "x_image, y_image = x_image_F200LP[3], y_image_F200LP[3]\n",
    "\n",
    "alpha_x, alpha_y = lensModel.alpha(x_image, y_image, kwargs_fit_test)\n",
    "\n",
    "x_source, y_source = x_image-alpha_x, y_image-alpha_y\n",
    "\n",
    "print(x_source, y_source)\n",
    "\n",
    "x_image, y_image = lensEquationSolver.image_position_from_source(kwargs_lens=kwargs_fit_test, sourcePos_x=x_source, sourcePos_y=y_source, \n",
    "                                                                 min_distance=0.01, search_window=10, precision_limit=10**(-10), num_iter_max=100)\n",
    "print('image positions: ', x_image, y_image)"
   ]
  },
  {
   "cell_type": "code",
   "execution_count": 66,
   "metadata": {},
   "outputs": [],
   "source": [
    "# # DCLS0854-0424\n",
    "\n",
    "# # x_source_1 = -0.5646987053268822 - (2*0.01)\n",
    "# # y_source_1 = 0.08835888499899273 + (22*0.01)\n",
    "\n",
    "# # x_source_2 = -0.343 - (53*0.01)\n",
    "# # y_source_2 = 0.08835888499899273 + (7*0.01)\n",
    "\n",
    "# # x_source_3 = -0.343 - (87*0.01)\n",
    "# # y_source_3 = 0.0393 + (25*0.01)\n",
    "\n",
    "# x_source_4 = -0.5646987053268822\n",
    "# y_source_4 = 0.08835888499899273\n",
    "\n",
    "# # print(x_source_1, y_source_1)\n",
    "# # print(x_source_2, y_source_2)\n",
    "# # print(x_source_3, y_source_3)\n",
    "\n",
    "# kwargs_pemd = {'theta_E': 2.404166080467353,\n",
    "#                'gamma': 1.8233280499535798,\n",
    "#                'e1': -0.059740982360995704,\n",
    "#                'e2': 0.1342377290890493,\n",
    "#                'center_x': 0.014621001392852512,\n",
    "#                'center_y': 0.08923949467809739}\n",
    "# kwargs_shear = {'gamma_ext': 0.10897252162554853,\n",
    "#                 'psi_ext': -0.81856514273551,\n",
    "#                 'ra_0': 0,\n",
    "#                 'dec_0': 0}\n",
    "\n",
    "# kwargs_lens_list = [kwargs_pemd, kwargs_shear]\n",
    "\n",
    "# # x_image_1, y_image_1 = lensEquationSolver.image_position_from_source(kwargs_lens=kwargs_lens_list, sourcePos_x=x_source_1, sourcePos_y=y_source_1, \n",
    "# #                                                                  min_distance=0.01, search_window=5, precision_limit=10**(-10), num_iter_max=100)\n",
    "# # print('image 1 positions: ', x_image_1, y_image_1)\n",
    "\n",
    "# # x_image_2, y_image_2 = lensEquationSolver.image_position_from_source(kwargs_lens=kwargs_lens_list, sourcePos_x=x_source_2, sourcePos_y=y_source_2, \n",
    "# #                                                                  min_distance=0.01, search_window=5, precision_limit=10**(-10), num_iter_max=100)\n",
    "# # print('image 2 positions: ', x_image_2, y_image_2)\n",
    "\n",
    "# # x_image_3, y_image_3 = lensEquationSolver.image_position_from_source(kwargs_lens=kwargs_lens_list, sourcePos_x=x_source_3, sourcePos_y=y_source_3, \n",
    "# #                                                                  min_distance=0.01, search_window=5, precision_limit=10**(-10), num_iter_max=100)\n",
    "# # print('image 3 positions: ', x_image_3, y_image_3)\n",
    "\n",
    "# x_image_4, y_image_4 = lensEquationSolver.image_position_from_source(kwargs_lens=kwargs_lens_list, sourcePos_x=x_source_4, sourcePos_y=y_source_4, \n",
    "#                                                                  min_distance=0.01, search_window=10, precision_limit=10**(-10), num_iter_max=100)\n",
    "# print('image 4 positions: ', x_image_4, y_image_4)"
   ]
  },
  {
   "cell_type": "code",
   "execution_count": 67,
   "metadata": {},
   "outputs": [],
   "source": [
    "# x_image, y_image = -2.754930458103047, -0.5003156080121595\n",
    "\n",
    "# alpha_x, alpha_y = lensModel.alpha(x_image, y_image, kwargs_lens_list)\n",
    "\n",
    "# x_source, y_source = x_image-alpha_x, y_image-alpha_y\n",
    "\n",
    "# print(x_source, y_source)\n",
    "\n",
    "# x_image, y_image = lensEquationSolver.image_position_from_source(kwargs_lens=kwargs_lens_list, sourcePos_x=x_source, sourcePos_y=y_source, \n",
    "#                                                                  min_distance=0.01, search_window=10, precision_limit=10**(-10), num_iter_max=100)\n",
    "# print('image positions: ', x_image, y_image)"
   ]
  },
  {
   "cell_type": "markdown",
   "metadata": {},
   "source": [
    "F140W Info:\n",
    "\n",
    "Lens center: 0.6491 0.1451\n",
    "Image 1, 2 RA: 2.1056694526151 -2.1446663684802947\n",
    "Image 1, 2 DEC: 0.16656821131187893 -0.09666993968892257\n",
    "theta E estimate: 2.129037341147402"
   ]
  },
  {
   "cell_type": "code",
   "execution_count": 68,
   "metadata": {},
   "outputs": [],
   "source": [
    "# x_image, y_image known values\n",
    "# x_image_F140W = [2.1056694526151, -2.1446663684802947]\n",
    "# y_image_F140W = [0.16656821131187893, -0.09666993968892257]\n",
    "\n",
    "# print('F140W image positions: ', x_image_F140W)"
   ]
  },
  {
   "cell_type": "markdown",
   "metadata": {},
   "source": [
    "F200LP Info:\n",
    "\n",
    "Lens center: 0.6455 0.1236\n",
    "Image 1, 2 RA: 2.097939804907363 -2.1223084092251288\n",
    "Image 1, 2 DEC: 0.13923809099998685 -0.09555221154370663\n",
    "theta E estimate: 2.1132025459004162"
   ]
  },
  {
   "cell_type": "code",
   "execution_count": 69,
   "metadata": {},
   "outputs": [],
   "source": [
    "# x_image, y_image known values\n",
    "# x_image_F200LP = [2.097939804907363, -2.1223084092251288]\n",
    "# y_image_F200LP = [0.13923809099998685, -0.09555221154370663]\n",
    "\n",
    "# print('F200LP image positions: ', x_image_F200LP)"
   ]
  },
  {
   "cell_type": "code",
   "execution_count": 70,
   "metadata": {},
   "outputs": [],
   "source": [
    "# fit the same lens model parameterization to the 4 image positions (free SPEMD model)\n",
    "# the initial guess of the model can be rather different but 'gamma' has to be kept fixed\n",
    "# kwargs_lens_init = copy.deepcopy(kwargs_lens_list)\n",
    "# 'theta_E': 2.311432821867558, 'e1': -0.18785019961075974, 'e2': -0.12607809088893723\n",
    "# kwargs_lens_init_F140W = [{'theta_E': 2.129037341147402, 'gamma': 2., 'e1': -0.1581155373378608, 'e2': -0.10765765074677205, 'center_x': 0.6491, 'center_y': 0.1451}]\n",
    "\n",
    "# kwargs_fit_F140W, precision_F140W = solver2Point.constraint_lensmodel(x_pos=x_image_F140W, y_pos=y_image_F140W, \n",
    "#                                                           kwargs_list=kwargs_lens_init_F140W, xtol=1.49012e-10)\n",
    "\n",
    "# kwargs_lens_init_F200LP = [{'theta_E': 2.1132025459004162, 'gamma': 2., 'e1': -0.19999967644529903, 'e2':  0.0258232185418328, 'center_x': 0.6455, 'center_y': 0.1236}]\n",
    "\n",
    "# kwargs_fit_F200LP, precision_F200LP = solver2Point.constraint_lensmodel(x_pos=x_image_F200LP, y_pos=y_image_F200LP, \n",
    "#                                                           kwargs_list=kwargs_lens_init_F200LP, xtol=1.49012e-10)"
   ]
  },
  {
   "cell_type": "code",
   "execution_count": 71,
   "metadata": {},
   "outputs": [],
   "source": [
    "# x_source_new_F140W, y_source_new_F140W = lensModel.ray_shooting(x_image_F140W, y_image_F140W, kwargs_fit_F140W)\n",
    "# print('F140W source center:', x_source_new_F140W, y_source_new_F140W)\n",
    "\n",
    "# x_source_new_F200LP, y_source_new_F200LP = lensModel.ray_shooting(x_image_F200LP, y_image_F200LP, kwargs_fit_F200LP)\n",
    "# print('F200LP source center:', x_source_new_F200LP, y_source_new_F200LP)"
   ]
  },
  {
   "cell_type": "code",
   "execution_count": 72,
   "metadata": {},
   "outputs": [],
   "source": [
    "# kwargs_fit_F140W"
   ]
  },
  {
   "cell_type": "code",
   "execution_count": 73,
   "metadata": {},
   "outputs": [],
   "source": [
    "# kwargs_fit_F200LP"
   ]
  },
  {
   "cell_type": "markdown",
   "metadata": {},
   "source": [
    "## some plots"
   ]
  },
  {
   "cell_type": "code",
   "execution_count": null,
   "metadata": {},
   "outputs": [],
   "source": [
    "# # make a pixel grid suited for plotting\n",
    "# from lenstronomy.Util import util\n",
    "\n",
    "\n",
    "\n",
    "# x_grid, y_grid = util.make_grid(numPix=500, deltapix=0.01)\n",
    "\n",
    "# # plot convergence\n",
    "\n",
    "# kappa_grid = lensModel.kappa(x_grid, y_grid, kwargs_fit_F140W)\n",
    "# kappa2d_fit = util.array2image(kappa_grid)\n",
    "\n",
    "\n",
    "# f, axes = plt.subplots(1, 1, figsize=(12, 4), sharex=False, sharey=False)\n",
    "\n",
    "\n",
    "# ax = axes\n",
    "# im = ax.matshow(np.log10(kappa2d_fit), origin='lower')\n",
    "# ax.text(1, 1, 'convergence, F140W')\n",
    "# ax.autoscale(False)\n",
    "# divider = make_axes_locatable(ax)\n",
    "# cax = divider.append_axes(\"right\", size=\"5%\", pad=0.05)\n",
    "# plt.colorbar(im, cax=cax)\n",
    "\n",
    "# plt.show()\n",
    "\n",
    "# # plot magnification\n",
    "\n",
    "# mag_grid = lensModel.magnification(x_grid, y_grid, kwargs_fit_F140W)\n",
    "# mag2d_fit = util.array2image(mag_grid)\n",
    "\n",
    "\n",
    "# import matplotlib.pyplot as plt\n",
    "# %matplotlib inline\n",
    "# from mpl_toolkits.axes_grid1 import AxesGrid, make_axes_locatable\n",
    "\n",
    "# f, axes = plt.subplots(1, 1, figsize=(12, 4), sharex=False, sharey=False)\n",
    "\n",
    "\n",
    "# ax = axes\n",
    "# im = ax.matshow(mag2d_fit, origin='lower', vmin=-10, vmax=10)\n",
    "# ax.text(1, 1, 're-fit model with solver and substructure, F140W')\n",
    "# ax.autoscale(False)\n",
    "# divider = make_axes_locatable(ax)\n",
    "# cax = divider.append_axes(\"right\", size=\"5%\", pad=0.05)\n",
    "# plt.colorbar(im, cax=cax)\n",
    "\n",
    "\n",
    "# plt.show()\n",
    "\n",
    "\n"
   ]
  },
  {
   "cell_type": "code",
   "execution_count": null,
   "metadata": {},
   "outputs": [],
   "source": [
    "# # make a pixel grid suited for plotting\n",
    "# from lenstronomy.Util import util\n",
    "\n",
    "\n",
    "\n",
    "# x_grid, y_grid = util.make_grid(numPix=500, deltapix=0.01)\n",
    "\n",
    "# # plot convergence\n",
    "\n",
    "# kappa_grid = lensModel.kappa(x_grid, y_grid, kwargs_fit_F200LP)\n",
    "# kappa2d_fit = util.array2image(kappa_grid)\n",
    "\n",
    "\n",
    "# f, axes = plt.subplots(1, 1, figsize=(12, 4), sharex=False, sharey=False)\n",
    "\n",
    "\n",
    "# ax = axes\n",
    "# im = ax.matshow(np.log10(kappa2d_fit), origin='lower')\n",
    "# ax.text(1, 1, 'convergence, F200LP')\n",
    "# ax.autoscale(False)\n",
    "# divider = make_axes_locatable(ax)\n",
    "# cax = divider.append_axes(\"right\", size=\"5%\", pad=0.05)\n",
    "# plt.colorbar(im, cax=cax)\n",
    "\n",
    "# plt.show()\n",
    "\n",
    "# # plot magnification\n",
    "\n",
    "# mag_grid = lensModel.magnification(x_grid, y_grid, kwargs_fit_F200LP)\n",
    "# mag2d_fit = util.array2image(mag_grid)\n",
    "\n",
    "\n",
    "# import matplotlib.pyplot as plt\n",
    "# %matplotlib inline\n",
    "# from mpl_toolkits.axes_grid1 import AxesGrid, make_axes_locatable\n",
    "\n",
    "# f, axes = plt.subplots(1, 1, figsize=(12, 4), sharex=False, sharey=False)\n",
    "\n",
    "\n",
    "# ax = axes\n",
    "# im = ax.matshow(mag2d_fit, origin='lower', vmin=-10, vmax=10)\n",
    "# ax.text(1, 1, 're-fit model with solver and substructure, F200LP')\n",
    "# ax.autoscale(False)\n",
    "# divider = make_axes_locatable(ax)\n",
    "# cax = divider.append_axes(\"right\", size=\"5%\", pad=0.05)\n",
    "# plt.colorbar(im, cax=cax)\n",
    "\n",
    "\n",
    "# plt.show()\n",
    "\n",
    "\n"
   ]
  }
 ],
 "metadata": {
  "kernelspec": {
   "display_name": "Python 3 (ipykernel)",
   "language": "python",
   "name": "python3"
  },
  "language_info": {
   "codemirror_mode": {
    "name": "ipython",
    "version": 3
   },
   "file_extension": ".py",
   "mimetype": "text/x-python",
   "name": "python",
   "nbconvert_exporter": "python",
   "pygments_lexer": "ipython3",
   "version": "3.9.13"
  },
  "vscode": {
   "interpreter": {
    "hash": "3865d0cb63030e7f0dc977b947e0361d13ca7b4f5f7c79ba86571fbb87f89e1f"
   }
  }
 },
 "nbformat": 4,
 "nbformat_minor": 2
}
