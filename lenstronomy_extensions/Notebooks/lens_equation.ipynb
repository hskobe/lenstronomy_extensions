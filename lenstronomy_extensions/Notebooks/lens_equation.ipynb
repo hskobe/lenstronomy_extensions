{
 "cells": [
  {
   "attachments": {},
   "cell_type": "markdown",
   "metadata": {},
   "source": [
    "## lenstronomy lens equation solver and flux ratios computation example notebook"
   ]
  },
  {
   "cell_type": "code",
   "execution_count": 14,
   "metadata": {},
   "outputs": [],
   "source": [
    "# import standard python modules\n",
    "import copy\n",
    "import numpy as np\n",
    "import matplotlib.pyplot as plt\n",
    "from mpl_toolkits.axes_grid1 import AxesGrid, make_axes_locatable\n",
    "%matplotlib inline\n",
    "\n",
    "\n",
    "import lenstronomy\n",
    "# import the lens model class \n",
    "from lenstronomy.LensModel.lens_model import LensModel\n",
    "from lenstronomy.LensModel.lens_model_extensions import LensModelExtensions\n",
    "# import the lens equation solver class (finding image plane positions of a source position)\n",
    "from lenstronomy.LensModel.Solver.lens_equation_solver import LensEquationSolver\n",
    "# import lens model solver with 4 image positions constrains\n",
    "from lenstronomy.LensModel.Solver.solver4point import Solver4Point #Solver4Point\n",
    "from lenstronomy.LensModel.Solver.solver2point import Solver2Point #Solver4Point"
   ]
  },
  {
   "cell_type": "code",
   "execution_count": 15,
   "metadata": {},
   "outputs": [],
   "source": [
    "# chose a lens model (list of parameterized lens models)\n",
    "lens_model_list = ['SPEMD', 'SHEAR_GAMMA_PSI'] #['EPL'] #, 'SHEAR_GAMMA_PSI'] #, 'NFW', 'NFW']\n",
    "\n",
    "#initialize classes with the specific lens models\n",
    "lensModel = LensModel(lens_model_list)\n",
    "lensEquationSolver = LensEquationSolver(lensModel)\n",
    "solver2Point = Solver2Point(lensModel=lensModel, solver_type='THETA_E_ELLIPSE')\n",
    "solver4Point = Solver4Point(lensModel=lensModel, solver_type='PROFILE_SHEAR')"
   ]
  },
  {
   "attachments": {},
   "cell_type": "markdown",
   "metadata": {},
   "source": [
    "### DCLS1507+0522"
   ]
  },
  {
   "cell_type": "code",
   "execution_count": 16,
   "metadata": {},
   "outputs": [],
   "source": [
    "# # # DCLS1507+0522: source 1, F200LP\n",
    "\n",
    "# # x_image_s1_F200LP = np.array([1.2285433511852109, -1.3986311119335793, -3.6291087887239137, -0.8344498087021135])\n",
    "# # y_image_s1_F200LP = np.array([4.1607764484457945, 4.312169573523052, 3.4710665194784394, -1.9958577504452544])\n",
    "\n",
    "# # x_image_s1_F200LP = np.array([-0.8344498087021135, 1.2285433511852109, -1.3986311119335793, -3.6291087887239137])\n",
    "# # y_image_s1_F200LP = np.array([-1.9958577504452544, 4.1607764484457945, 4.312169573523052, 3.4710665194784394])\n",
    "\n",
    "# x_image_s1_F200LP = np.array([1.2285433511852109, -1.3986311119335793, -3.6291087887239137])\n",
    "# y_image_s1_F200LP = np.array([4.1607764484457945, 4.312169573523052, 3.4710665194784394])\n",
    "\n",
    "# # # DCLS1507+0522_local_customlogL_fitF200LP_s1_run_11\n",
    "# # kwargs_pemd = {'theta_E': 4.923897427699637, \n",
    "# #                  'gamma': 2.0, \n",
    "# #                  'e1': -0.20087942999736097, \n",
    "# #                  'e2': 0.05268333713312042, \n",
    "# #                  'center_x': 0.0038999843035251564, \n",
    "# #                  'center_y': 0.00931611330505573}\n",
    "# # kwargs_shear = {'gamma_ext': -0.001807834284974115, \n",
    "# #                   'psi_ext': -0.02465806220709, \n",
    "# #                   'ra_0': 0, \n",
    "# #                   'dec_0': 0}\n",
    "\n",
    "# # # DCLS1507+0522_local_fitF200LP_s1_run_18\n",
    "# # kwargs_pemd = {'theta_E': 3.546723742856915, \n",
    "# #                'gamma': 2.0, \n",
    "# #                'e1': -0.3673142203523437, \n",
    "# #                'e2': -0.3296776533722956, \n",
    "# #                'center_x': -0.008458298147510547, \n",
    "# #                'center_y': 0.007812246062309957}\n",
    "# # kwargs_shear = {'gamma_ext': 0.10802852057402561, \n",
    "# #                'psi_ext': 1.9262142377274447, \n",
    "# #                'ra_0': 0, \n",
    "# #                'dec_0': 0}\n",
    "\n",
    "# # # DCLS1507+0522_2\n",
    "\n",
    "# kwargs_spemd = {'theta_E': 3.3544438046555687,\n",
    "#                 'gamma': 2.1140805891780925,\n",
    "#                 'e1': 0.16783270234622646,\n",
    "#                 'e2': 0.19662596542686142,\n",
    "#                 's_scale': 0.18218981022162903,\n",
    "#                 'center_x': -0.8202722125100379,\n",
    "#                 'center_y': -0.48436113830601013}\n",
    "# kwargs_shear = {'gamma_ext': 0.27874867056744485,\n",
    "#                 'psi_ext': 0.218842944580115,\n",
    "#                 'ra_0': 0,\n",
    "#                 'dec_0': 0}\n",
    "\n",
    "# kwargs_lens_list = [kwargs_spemd, kwargs_shear]\n",
    "\n",
    "# ##########################################################################################################\n",
    "# ##########################################################################################################\n",
    "\n",
    "# kwargs_fit_s1, precision_s1 = solver2Point.constraint_lensmodel(x_pos=x_image_s1_F200LP, y_pos=y_image_s1_F200LP, \n",
    "#                                                           kwargs_list=kwargs_lens_list, xtol=1.49012e-12)\n",
    "\n",
    "# print('kwargs_fit_s1:', kwargs_fit_s1)\n",
    "# print('#'*15)\n",
    "# print('#'*15)\n",
    "\n",
    "# ##########################################################################################################\n",
    "# ##########################################################################################################\n",
    "\n",
    "# for x, y in zip(x_image_s1_F200LP, y_image_s1_F200LP):\n",
    "#     x_image, y_image = x, y\n",
    "#     print('initial image position:', x_image, y_image)\n",
    "\n",
    "#     alpha_x, alpha_y = lensModel.alpha(x_image, y_image, kwargs_fit_s1)\n",
    "\n",
    "#     x_source, y_source = x_image-alpha_x, y_image-alpha_y\n",
    "\n",
    "#     print('source:', x_source, y_source)\n",
    "\n",
    "#     x_image, y_image = lensEquationSolver.image_position_from_source(kwargs_lens=kwargs_fit_s1, sourcePos_x=x_source, sourcePos_y=y_source, \n",
    "#                                                                     min_distance=0.01, search_window=10, precision_limit=10**(-10), num_iter_max=100)\n",
    "#     print('image positions: ', x_image, y_image)\n",
    "#     print('#'*15)"
   ]
  },
  {
   "cell_type": "code",
   "execution_count": 17,
   "metadata": {},
   "outputs": [
    {
     "name": "stdout",
     "output_type": "stream",
     "text": [
      "kwargs_fit_s2: [{'theta_E': 3.755612702714641, 'gamma': 2.3093837411186064, 'e1': -0.012531845641470425, 'e2': 0.12197365896334111, 's_scale': 0.49948142237656606, 'center_x': -0.5538246138965593, 'center_y': -0.4187079691682402}, {'gamma_ext': 0.30699602635508705, 'psi_ext': 0.2572573768005472, 'ra_0': 0, 'dec_0': 0}]\n",
      "###############\n",
      "###############\n",
      "initial image position: 4.6994940741468145 0.455225425191621\n",
      "source: 0.5826287513760393 -0.3870476432179296\n",
      "image positions:  [ 4.69949407 -3.52566847 -2.06284976 -2.29857014 -0.7203778 ] [ 0.45522543 -0.99103396 -2.48934325  1.08115898 -0.45101504]\n",
      "###############\n",
      "initial image position: -2.0628497614326937 -2.489343251353538\n",
      "source: 0.5826287513760429 -0.38704764321794194\n",
      "image positions:  [ 4.69949407 -3.52566847 -2.06284976 -2.29857014 -0.7203778 ] [ 0.45522543 -0.99103396 -2.48934325  1.08115898 -0.45101504]\n",
      "###############\n",
      "initial image position: -3.525668471279435 -0.9910339637415673\n",
      "source: 0.58262875137603 -0.3870476432179254\n",
      "image positions:  [ 4.69949407 -3.52566847 -2.06284976 -2.29857014 -0.7203778 ] [ 0.45522543 -0.99103396 -2.48934325  1.08115898 -0.45101504]\n",
      "###############\n",
      "initial image position: -2.298570140471534 1.0811589757279219\n",
      "source: 0.5826287513760282 -0.3870476432179155\n",
      "image positions:  [ 4.69949407 -3.52566847 -2.06284976 -2.29857014 -0.7203778 ] [ 0.45522543 -0.99103396 -2.48934325  1.08115898 -0.45101504]\n",
      "###############\n"
     ]
    }
   ],
   "source": [
    "# DCLS1507+0522: source 2, F200LP\n",
    "\n",
    "x_image_s2_F200LP = np.array([4.6994940741468145, -2.0628497614326937, -3.525668471279435, -2.298570140471534])\n",
    "y_image_s2_F200LP = np.array([0.455225425191621, -2.489343251353538, -0.9910339637415673, 1.0811589757279219])\n",
    "\n",
    "kwargs_pemd_s2 = {'theta_E': 3.0586517959277395, \n",
    "                'gamma': 2.3093837411186064, \n",
    "                'e1': -0.14847497179603944, \n",
    "                'e2': -0.057853144396770605, \n",
    "                's_scale': 0.49948142237656606,\n",
    "                'center_x': -0.8018140749005013, \n",
    "                'center_y': -0.49154401777238305}\n",
    "kwargs_shear_s2 = {'gamma_ext': 0.30699602635508705, \n",
    "                'psi_ext': 0.16961932757031858,\n",
    "                'ra_0': 0,\n",
    "                'dec_0': 0}\n",
    "\n",
    "kwargs_lens_list_s2 = [kwargs_pemd_s2, kwargs_shear_s2]\n",
    "\n",
    "##########################################################################################################\n",
    "##########################################################################################################\n",
    "\n",
    "kwargs_fit_s2, precision_s2 = solver4Point.constraint_lensmodel(x_pos=x_image_s2_F200LP, y_pos=y_image_s2_F200LP, \n",
    "                                                          kwargs_list=kwargs_lens_list_s2, xtol=1.49012e-12)\n",
    "\n",
    "print('kwargs_fit_s2:', kwargs_fit_s2)\n",
    "print('#'*15)\n",
    "print('#'*15)\n",
    "\n",
    "##########################################################################################################\n",
    "##########################################################################################################\n",
    "\n",
    "for x, y in zip(x_image_s2_F200LP, y_image_s2_F200LP):\n",
    "    x_image, y_image = x, y\n",
    "    print('initial image position:', x_image, y_image)\n",
    "\n",
    "    alpha_x, alpha_y = lensModel.alpha(x_image, y_image, kwargs_fit_s2)\n",
    "\n",
    "    x_source, y_source = x_image-alpha_x, y_image-alpha_y\n",
    "\n",
    "    print('source:', x_source, y_source)\n",
    "\n",
    "    x_image, y_image = lensEquationSolver.image_position_from_source(kwargs_lens=kwargs_fit_s2, sourcePos_x=x_source, sourcePos_y=y_source, \n",
    "                                                                    min_distance=0.01, search_window=10, precision_limit=10**(-10), num_iter_max=100)\n",
    "    print('image positions: ', x_image, y_image)\n",
    "    print('#'*15)\n"
   ]
  },
  {
   "cell_type": "code",
   "execution_count": 18,
   "metadata": {},
   "outputs": [
    {
     "data": {
      "text/plain": [
       "[{'theta_E': 3.755612702714641,\n",
       "  'gamma': 2.3093837411186064,\n",
       "  'e1': -0.012531845641470425,\n",
       "  'e2': 0.12197365896334111,\n",
       "  's_scale': 0.49948142237656606,\n",
       "  'center_x': -0.5538246138965593,\n",
       "  'center_y': -0.4187079691682402},\n",
       " {'gamma_ext': 0.30699602635508705,\n",
       "  'psi_ext': 0.2572573768005472,\n",
       "  'ra_0': 0,\n",
       "  'dec_0': 0}]"
      ]
     },
     "execution_count": 18,
     "metadata": {},
     "output_type": "execute_result"
    }
   ],
   "source": [
    "kwargs_fit_s2"
   ]
  },
  {
   "cell_type": "code",
   "execution_count": 53,
   "metadata": {},
   "outputs": [],
   "source": [
    "from itertools import combinations\n",
    "\n",
    "def source_pos_dist(var, x_pos, y_pos):\n",
    "\n",
    "    x_source = []\n",
    "    y_source = []\n",
    "    dist = []\n",
    "\n",
    "    # x_pos = img_pos[:4]\n",
    "    # y_pos = img_pos[4:]\n",
    "\n",
    "    theta_e, gamma_ext, psi_ext = var\n",
    "    \n",
    "    kwargs_spemd = {'theta_E': theta_e, \n",
    "                    'gamma': 2.3093837411186064, \n",
    "                    'e1': -0.14847497179603944, \n",
    "                    'e2': -0.057853144396770605, \n",
    "                    's_scale': 0.49948142237656606,\n",
    "                    'center_x': -0.8018140749005013, \n",
    "                    'center_y': -0.49154401777238305}\n",
    "    kwargs_shear = {'gamma_ext': gamma_ext, \n",
    "                    'psi_ext': psi_ext,\n",
    "                    'ra_0': 0,\n",
    "                    'dec_0': 0}\n",
    "\n",
    "    kwargs_list = [kwargs_spemd, kwargs_shear]\n",
    "\n",
    "    for x, y in zip(x_pos, y_pos):\n",
    "\n",
    "        alpha_x, alpha_y = lensModel.alpha(x, y, kwargs_list)\n",
    "\n",
    "        x_source.append(x - alpha_x)\n",
    "\n",
    "        y_source.append(y - alpha_y)\n",
    "\n",
    "    for i, j in combinations(zip(x_source, y_source), 2):\n",
    "        dist.append(np.sqrt( (j[0] - i[0])**2 + (j[1] - i[1])**2 ))\n",
    "\n",
    "    return np.sum(dist)"
   ]
  },
  {
   "cell_type": "code",
   "execution_count": 59,
   "metadata": {},
   "outputs": [
    {
     "name": "stdout",
     "output_type": "stream",
     "text": [
      "Optimization terminated successfully.\n",
      "         Current function value: 0.577069\n",
      "         Iterations: 111\n",
      "         Function evaluations: 193\n"
     ]
    }
   ],
   "source": [
    "from scipy.optimize import minimize\n",
    "\n",
    "var = 3.7417482816708825, 0.21092436968446868, 0.07242467909933327\n",
    "\n",
    "res = minimize(source_pos_dist, var, args=(x_image_s2_F200LP, y_image_s2_F200LP), method='nelder-mead', options={'disp': True})"
   ]
  },
  {
   "cell_type": "code",
   "execution_count": 61,
   "metadata": {},
   "outputs": [
    {
     "data": {
      "text/plain": [
       "array([3.74763398, 0.26790746, 0.16891215])"
      ]
     },
     "execution_count": 61,
     "metadata": {},
     "output_type": "execute_result"
    }
   ],
   "source": [
    "res.x"
   ]
  },
  {
   "cell_type": "code",
   "execution_count": null,
   "metadata": {},
   "outputs": [],
   "source": [
    "x = np.array([2.84880786, -2.18611749, -3.84199755, -2.61547983])\n",
    "y = np.array([0.44773636, -2.41528143, -0.99530428,  1.24961864])"
   ]
  },
  {
   "cell_type": "code",
   "execution_count": null,
   "metadata": {},
   "outputs": [],
   "source": [
    "kwargs_spemd = {'theta_E': 3.58878847, \n",
    "                    'gamma': 2.3093837411186064, \n",
    "                    'e1': -0.14847497179603944, \n",
    "                    'e2': -0.057853144396770605, \n",
    "                    's_scale': 0.49948142237656606,\n",
    "                    'center_x': -0.8018140749005013, \n",
    "                    'center_y': -0.49154401777238305}\n",
    "kwargs_shear = {'gamma_ext': 0.21382391, \n",
    "                'psi_ext': 0.21382391,\n",
    "                'ra_0': 0,\n",
    "                'dec_0': 0}\n",
    "\n",
    "kwargs_list = [kwargs_spemd, kwargs_shear]"
   ]
  },
  {
   "cell_type": "code",
   "execution_count": null,
   "metadata": {},
   "outputs": [],
   "source": [
    "kwargs_fit, precision = solver4Point.constraint_lensmodel(x_pos=x, y_pos=y, \n",
    "                                                          kwargs_list=kwargs_list, xtol=1.49012e-12)\n",
    "\n",
    "kwargs_fit"
   ]
  },
  {
   "attachments": {},
   "cell_type": "markdown",
   "metadata": {},
   "source": [
    "### DCLS0854-0424"
   ]
  },
  {
   "cell_type": "code",
   "execution_count": null,
   "metadata": {},
   "outputs": [],
   "source": [
    "# # DCLS0854-0424\n",
    "\n",
    "# # x_source_1 = -0.5646987053268822 - (2*0.01)\n",
    "# # y_source_1 = 0.08835888499899273 + (22*0.01)\n",
    "\n",
    "# # x_source_2 = -0.343 - (53*0.01)\n",
    "# # y_source_2 = 0.08835888499899273 + (7*0.01)\n",
    "\n",
    "# # x_source_3 = -0.343 - (87*0.01)\n",
    "# # y_source_3 = 0.0393 + (25*0.01)\n",
    "\n",
    "# x_source_4 = -0.5646987053268822\n",
    "# y_source_4 = 0.08835888499899273\n",
    "\n",
    "# # print(x_source_1, y_source_1)\n",
    "# # print(x_source_2, y_source_2)\n",
    "# # print(x_source_3, y_source_3)\n",
    "\n",
    "# kwargs_pemd = {'theta_E': 2.404166080467353,\n",
    "#                'gamma': 1.8233280499535798,\n",
    "#                'e1': -0.059740982360995704,\n",
    "#                'e2': 0.1342377290890493,\n",
    "#                'center_x': 0.014621001392852512,\n",
    "#                'center_y': 0.08923949467809739}\n",
    "# kwargs_shear = {'gamma_ext': 0.10897252162554853,\n",
    "#                 'psi_ext': -0.81856514273551,\n",
    "#                 'ra_0': 0,\n",
    "#                 'dec_0': 0}\n",
    "\n",
    "# kwargs_lens_list = [kwargs_pemd, kwargs_shear]\n",
    "\n",
    "# # x_image_1, y_image_1 = lensEquationSolver.image_position_from_source(kwargs_lens=kwargs_lens_list, sourcePos_x=x_source_1, sourcePos_y=y_source_1, \n",
    "# #                                                                  min_distance=0.01, search_window=5, precision_limit=10**(-10), num_iter_max=100)\n",
    "# # print('image 1 positions: ', x_image_1, y_image_1)\n",
    "\n",
    "# # x_image_2, y_image_2 = lensEquationSolver.image_position_from_source(kwargs_lens=kwargs_lens_list, sourcePos_x=x_source_2, sourcePos_y=y_source_2, \n",
    "# #                                                                  min_distance=0.01, search_window=5, precision_limit=10**(-10), num_iter_max=100)\n",
    "# # print('image 2 positions: ', x_image_2, y_image_2)\n",
    "\n",
    "# # x_image_3, y_image_3 = lensEquationSolver.image_position_from_source(kwargs_lens=kwargs_lens_list, sourcePos_x=x_source_3, sourcePos_y=y_source_3, \n",
    "# #                                                                  min_distance=0.01, search_window=5, precision_limit=10**(-10), num_iter_max=100)\n",
    "# # print('image 3 positions: ', x_image_3, y_image_3)\n",
    "\n",
    "# x_image_4, y_image_4 = lensEquationSolver.image_position_from_source(kwargs_lens=kwargs_lens_list, sourcePos_x=x_source_4, sourcePos_y=y_source_4, \n",
    "#                                                                  min_distance=0.01, search_window=10, precision_limit=10**(-10), num_iter_max=100)\n",
    "# print('image 4 positions: ', x_image_4, y_image_4)"
   ]
  },
  {
   "cell_type": "code",
   "execution_count": null,
   "metadata": {},
   "outputs": [],
   "source": [
    "# x_image, y_image = -2.754930458103047, -0.5003156080121595\n",
    "\n",
    "# alpha_x, alpha_y = lensModel.alpha(x_image, y_image, kwargs_lens_list)\n",
    "\n",
    "# x_source, y_source = x_image-alpha_x, y_image-alpha_y\n",
    "\n",
    "# print(x_source, y_source)\n",
    "\n",
    "# x_image, y_image = lensEquationSolver.image_position_from_source(kwargs_lens=kwargs_lens_list, sourcePos_x=x_source, sourcePos_y=y_source, \n",
    "#                                                                  min_distance=0.01, search_window=10, precision_limit=10**(-10), num_iter_max=100)\n",
    "# print('image positions: ', x_image, y_image)"
   ]
  },
  {
   "attachments": {},
   "cell_type": "markdown",
   "metadata": {},
   "source": [
    "F140W Info:\n",
    "\n",
    "Lens center: 0.6491 0.1451\n",
    "Image 1, 2 RA: 2.1056694526151 -2.1446663684802947\n",
    "Image 1, 2 DEC: 0.16656821131187893 -0.09666993968892257\n",
    "theta E estimate: 2.129037341147402"
   ]
  },
  {
   "cell_type": "code",
   "execution_count": null,
   "metadata": {},
   "outputs": [],
   "source": [
    "# x_image, y_image known values\n",
    "# x_image_F140W = [2.1056694526151, -2.1446663684802947]\n",
    "# y_image_F140W = [0.16656821131187893, -0.09666993968892257]\n",
    "\n",
    "# print('F140W image positions: ', x_image_F140W)"
   ]
  },
  {
   "attachments": {},
   "cell_type": "markdown",
   "metadata": {},
   "source": [
    "F200LP Info:\n",
    "\n",
    "Lens center: 0.6455 0.1236\n",
    "Image 1, 2 RA: 2.097939804907363 -2.1223084092251288\n",
    "Image 1, 2 DEC: 0.13923809099998685 -0.09555221154370663\n",
    "theta E estimate: 2.1132025459004162"
   ]
  },
  {
   "cell_type": "code",
   "execution_count": null,
   "metadata": {},
   "outputs": [],
   "source": [
    "# x_image, y_image known values\n",
    "# x_image_F200LP = [2.097939804907363, -2.1223084092251288]\n",
    "# y_image_F200LP = [0.13923809099998685, -0.09555221154370663]\n",
    "\n",
    "# print('F200LP image positions: ', x_image_F200LP)"
   ]
  },
  {
   "cell_type": "code",
   "execution_count": null,
   "metadata": {},
   "outputs": [],
   "source": [
    "# fit the same lens model parameterization to the 4 image positions (free SPEMD model)\n",
    "# the initial guess of the model can be rather different but 'gamma' has to be kept fixed\n",
    "# kwargs_lens_init = copy.deepcopy(kwargs_lens_list)\n",
    "# 'theta_E': 2.311432821867558, 'e1': -0.18785019961075974, 'e2': -0.12607809088893723\n",
    "# kwargs_lens_init_F140W = [{'theta_E': 2.129037341147402, 'gamma': 2., 'e1': -0.1581155373378608, 'e2': -0.10765765074677205, 'center_x': 0.6491, 'center_y': 0.1451}]\n",
    "\n",
    "# kwargs_fit_F140W, precision_F140W = solver2Point.constraint_lensmodel(x_pos=x_image_F140W, y_pos=y_image_F140W, \n",
    "#                                                           kwargs_list=kwargs_lens_init_F140W, xtol=1.49012e-10)\n",
    "\n",
    "# kwargs_lens_init_F200LP = [{'theta_E': 2.1132025459004162, 'gamma': 2., 'e1': -0.19999967644529903, 'e2':  0.0258232185418328, 'center_x': 0.6455, 'center_y': 0.1236}]\n",
    "\n",
    "# kwargs_fit_F200LP, precision_F200LP = solver2Point.constraint_lensmodel(x_pos=x_image_F200LP, y_pos=y_image_F200LP, \n",
    "#                                                           kwargs_list=kwargs_lens_init_F200LP, xtol=1.49012e-10)"
   ]
  },
  {
   "cell_type": "code",
   "execution_count": null,
   "metadata": {},
   "outputs": [],
   "source": [
    "# x_source_new_F140W, y_source_new_F140W = lensModel.ray_shooting(x_image_F140W, y_image_F140W, kwargs_fit_F140W)\n",
    "# print('F140W source center:', x_source_new_F140W, y_source_new_F140W)\n",
    "\n",
    "# x_source_new_F200LP, y_source_new_F200LP = lensModel.ray_shooting(x_image_F200LP, y_image_F200LP, kwargs_fit_F200LP)\n",
    "# print('F200LP source center:', x_source_new_F200LP, y_source_new_F200LP)"
   ]
  },
  {
   "cell_type": "code",
   "execution_count": null,
   "metadata": {},
   "outputs": [],
   "source": [
    "# kwargs_fit_F140W"
   ]
  },
  {
   "cell_type": "code",
   "execution_count": null,
   "metadata": {},
   "outputs": [],
   "source": [
    "# kwargs_fit_F200LP"
   ]
  },
  {
   "attachments": {},
   "cell_type": "markdown",
   "metadata": {},
   "source": [
    "### DESI-118.8480+34.7610"
   ]
  },
  {
   "cell_type": "code",
   "execution_count": null,
   "metadata": {},
   "outputs": [],
   "source": [
    "# # # DESI-118.8480+34.7610: F606W\n",
    "\n",
    "# # Image 1: (1.3548411332053694, 1.2684487670194255)\n",
    "# # Image 2: (-0.7992269031586487, 2.2488218940396862)\n",
    "# # Image 3: (-1.907215173224024, 0.16167868755750048)\n",
    "# # Image 4: (1.3939117056447436, -1.7841665845670103)\n",
    "\n",
    "# x_image_s1_F200LP = np.array([1.3548411332053694, -0.7992269031586487, -1.907215173224024, 1.3939117056447436])\n",
    "# y_image_s1_F200LP = np.array([1.2684487670194255, 2.2488218940396862, 0.16167868755750048, -1.7841665845670103])\n",
    "\n",
    "# # # DCLS1507+0522_local_customlogL_fitF200LP_s1_run_11\n",
    "# kwargs_pemd = {'theta_E': 2.217815519520389,\n",
    "#                 'gamma': 2.229256699205595,\n",
    "#                 'e1': 0.19883947353154727,\n",
    "#                 'e2': -0.10222795879338925,\n",
    "#                 'center_x': -0.007,\n",
    "#                 'center_y': 0.4194}\n",
    "# kwargs_shear = {'gamma_ext': 0.020453977173297545,\n",
    "#                 'psi_ext': 1.1857456084047209,\n",
    "#                 'ra_0': 0,\n",
    "#                 'dec_0': 0}\n",
    "\n",
    "# kwargs_lens_list = [kwargs_pemd, kwargs_shear]\n",
    "\n",
    "# ##########################################################################################################\n",
    "# ##########################################################################################################\n",
    "\n",
    "# kwargs_fit_s1, precision_s1 = solver4Point.constraint_lensmodel(x_pos=x_image_s1_F200LP, y_pos=y_image_s1_F200LP, \n",
    "#                                                           kwargs_list=kwargs_lens_list, xtol=1.49012e-12)\n",
    "\n",
    "# print('kwargs_fit_s1:', kwargs_fit_s1)\n",
    "# print('#'*15)\n",
    "# print('#'*15)\n",
    "\n",
    "# ##########################################################################################################\n",
    "# ##########################################################################################################\n",
    "\n",
    "# for x, y in zip(x_image_s1_F200LP, y_image_s1_F200LP):\n",
    "#     x_image, y_image = x, y\n",
    "#     print('initial image position:', x_image, y_image)\n",
    "\n",
    "#     alpha_x, alpha_y = lensModel.alpha(x_image, y_image, kwargs_fit_s1)\n",
    "\n",
    "#     x_source, y_source = x_image-alpha_x, y_image-alpha_y\n",
    "\n",
    "#     print('source:', x_source, y_source)\n",
    "\n",
    "#     x_image, y_image = lensEquationSolver.image_position_from_source(kwargs_lens=kwargs_fit_s1, sourcePos_x=x_source, sourcePos_y=y_source, \n",
    "#                                                                     min_distance=0.01, search_window=10, precision_limit=10**(-10), num_iter_max=100)\n",
    "#     print('image positions: ', x_image, y_image)\n",
    "#     print('#'*15)"
   ]
  },
  {
   "attachments": {},
   "cell_type": "markdown",
   "metadata": {},
   "source": [
    "### some plots"
   ]
  },
  {
   "cell_type": "code",
   "execution_count": null,
   "metadata": {},
   "outputs": [],
   "source": [
    "# # make a pixel grid suited for plotting\n",
    "# from lenstronomy.Util import util\n",
    "\n",
    "\n",
    "\n",
    "# x_grid, y_grid = util.make_grid(numPix=500, deltapix=0.01)\n",
    "\n",
    "# # plot convergence\n",
    "\n",
    "# kappa_grid = lensModel.kappa(x_grid, y_grid, kwargs_fit_F140W)\n",
    "# kappa2d_fit = util.array2image(kappa_grid)\n",
    "\n",
    "\n",
    "# f, axes = plt.subplots(1, 1, figsize=(12, 4), sharex=False, sharey=False)\n",
    "\n",
    "\n",
    "# ax = axes\n",
    "# im = ax.matshow(np.log10(kappa2d_fit), origin='lower')\n",
    "# ax.text(1, 1, 'convergence, F140W')\n",
    "# ax.autoscale(False)\n",
    "# divider = make_axes_locatable(ax)\n",
    "# cax = divider.append_axes(\"right\", size=\"5%\", pad=0.05)\n",
    "# plt.colorbar(im, cax=cax)\n",
    "\n",
    "# plt.show()\n",
    "\n",
    "# # plot magnification\n",
    "\n",
    "# mag_grid = lensModel.magnification(x_grid, y_grid, kwargs_fit_F140W)\n",
    "# mag2d_fit = util.array2image(mag_grid)\n",
    "\n",
    "\n",
    "# import matplotlib.pyplot as plt\n",
    "# %matplotlib inline\n",
    "# from mpl_toolkits.axes_grid1 import AxesGrid, make_axes_locatable\n",
    "\n",
    "# f, axes = plt.subplots(1, 1, figsize=(12, 4), sharex=False, sharey=False)\n",
    "\n",
    "\n",
    "# ax = axes\n",
    "# im = ax.matshow(mag2d_fit, origin='lower', vmin=-10, vmax=10)\n",
    "# ax.text(1, 1, 're-fit model with solver and substructure, F140W')\n",
    "# ax.autoscale(False)\n",
    "# divider = make_axes_locatable(ax)\n",
    "# cax = divider.append_axes(\"right\", size=\"5%\", pad=0.05)\n",
    "# plt.colorbar(im, cax=cax)\n",
    "\n",
    "\n",
    "# plt.show()\n",
    "\n",
    "\n"
   ]
  },
  {
   "cell_type": "code",
   "execution_count": null,
   "metadata": {},
   "outputs": [],
   "source": [
    "# # make a pixel grid suited for plotting\n",
    "# from lenstronomy.Util import util\n",
    "\n",
    "\n",
    "\n",
    "# x_grid, y_grid = util.make_grid(numPix=500, deltapix=0.01)\n",
    "\n",
    "# # plot convergence\n",
    "\n",
    "# kappa_grid = lensModel.kappa(x_grid, y_grid, kwargs_fit_F200LP)\n",
    "# kappa2d_fit = util.array2image(kappa_grid)\n",
    "\n",
    "\n",
    "# f, axes = plt.subplots(1, 1, figsize=(12, 4), sharex=False, sharey=False)\n",
    "\n",
    "\n",
    "# ax = axes\n",
    "# im = ax.matshow(np.log10(kappa2d_fit), origin='lower')\n",
    "# ax.text(1, 1, 'convergence, F200LP')\n",
    "# ax.autoscale(False)\n",
    "# divider = make_axes_locatable(ax)\n",
    "# cax = divider.append_axes(\"right\", size=\"5%\", pad=0.05)\n",
    "# plt.colorbar(im, cax=cax)\n",
    "\n",
    "# plt.show()\n",
    "\n",
    "# # plot magnification\n",
    "\n",
    "# mag_grid = lensModel.magnification(x_grid, y_grid, kwargs_fit_F200LP)\n",
    "# mag2d_fit = util.array2image(mag_grid)\n",
    "\n",
    "\n",
    "# import matplotlib.pyplot as plt\n",
    "# %matplotlib inline\n",
    "# from mpl_toolkits.axes_grid1 import AxesGrid, make_axes_locatable\n",
    "\n",
    "# f, axes = plt.subplots(1, 1, figsize=(12, 4), sharex=False, sharey=False)\n",
    "\n",
    "\n",
    "# ax = axes\n",
    "# im = ax.matshow(mag2d_fit, origin='lower', vmin=-10, vmax=10)\n",
    "# ax.text(1, 1, 're-fit model with solver and substructure, F200LP')\n",
    "# ax.autoscale(False)\n",
    "# divider = make_axes_locatable(ax)\n",
    "# cax = divider.append_axes(\"right\", size=\"5%\", pad=0.05)\n",
    "# plt.colorbar(im, cax=cax)\n",
    "\n",
    "\n",
    "# plt.show()\n",
    "\n",
    "\n"
   ]
  }
 ],
 "metadata": {
  "kernelspec": {
   "display_name": "Python 3 (ipykernel)",
   "language": "python",
   "name": "python3"
  },
  "language_info": {
   "codemirror_mode": {
    "name": "ipython",
    "version": 3
   },
   "file_extension": ".py",
   "mimetype": "text/x-python",
   "name": "python",
   "nbconvert_exporter": "python",
   "pygments_lexer": "ipython3",
   "version": "3.9.16"
  },
  "vscode": {
   "interpreter": {
    "hash": "3865d0cb63030e7f0dc977b947e0361d13ca7b4f5f7c79ba86571fbb87f89e1f"
   }
  }
 },
 "nbformat": 4,
 "nbformat_minor": 2
}
