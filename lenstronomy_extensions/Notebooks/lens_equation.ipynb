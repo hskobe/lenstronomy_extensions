{
 "cells": [
  {
   "cell_type": "markdown",
   "metadata": {},
   "source": [
    "## lenstronomy lens equation solver and flux ratios computation example notebook"
   ]
  },
  {
   "cell_type": "code",
   "execution_count": 2,
   "metadata": {},
   "outputs": [],
   "source": [
    "# import standard python modules\n",
    "import copy\n",
    "import numpy as np\n",
    "import matplotlib.pyplot as plt\n",
    "from mpl_toolkits.axes_grid1 import AxesGrid, make_axes_locatable\n",
    "%matplotlib inline\n",
    "\n",
    "\n",
    "import lenstronomy\n",
    "# import the lens model class \n",
    "from lenstronomy.LensModel.lens_model import LensModel\n",
    "from lenstronomy.LensModel.lens_model_extensions import LensModelExtensions\n",
    "# import the lens equation solver class (finding image plane positions of a source position)\n",
    "from lenstronomy.LensModel.Solver.lens_equation_solver import LensEquationSolver\n",
    "# import lens model solver with 4 image positions constrains\n",
    "from lenstronomy.LensModel.Solver.solver4point import Solver4Point #Solver4Point\n",
    "from lenstronomy.LensModel.Solver.solver2point import Solver2Point #Solver4Point"
   ]
  },
  {
   "cell_type": "code",
   "execution_count": 3,
   "metadata": {},
   "outputs": [],
   "source": [
    "# chose a lens model (list of parameterized lens models)\n",
    "lens_model_list = ['PEMD', 'SHEAR_GAMMA_PSI'] #['EPL'] #, 'SHEAR_GAMMA_PSI'] #, 'NFW', 'NFW']\n",
    "\n",
    "#initialize classes with the specific lens models\n",
    "lensModel = LensModel(lens_model_list)\n",
    "lensEquationSolver = LensEquationSolver(lensModel)\n",
    "solver2Point = Solver2Point(lensModel=lensModel, solver_type='THETA_E_ELLIPSE')\n",
    "solver4Point = Solver4Point(lensModel=lensModel, solver_type='PROFILE_SHEAR')"
   ]
  },
  {
   "attachments": {},
   "cell_type": "markdown",
   "metadata": {},
   "source": [
    "### DCLS1507+0522"
   ]
  },
  {
   "cell_type": "code",
   "execution_count": 4,
   "metadata": {},
   "outputs": [
    {
     "name": "stderr",
     "output_type": "stream",
     "text": [
      "/Users/hskobe/opt/anaconda3/lib/python3.9/site-packages/scipy/optimize/_minpack_py.py:175: RuntimeWarning: The iteration is not making good progress, as measured by the \n",
      "  improvement from the last ten iterations.\n",
      "  warnings.warn(msg, RuntimeWarning)\n"
     ]
    },
    {
     "name": "stdout",
     "output_type": "stream",
     "text": [
      "kwargs_fit_s1: [{'theta_E': 3.788880794247531, 'gamma': 2.0, 'e1': -0.3356564455804717, 'e2': 0.05044120869853419, 'center_x': -0.6939338013053542, 'center_y': -0.15233932734834077}, {'gamma_ext': -0.001807834284974115, 'psi_ext': 363421.38588085026, 'ra_0': 0, 'dec_0': 0}]\n",
      "###############\n",
      "###############\n",
      "initial image position: -0.8344498087021135 -1.9958577504452544\n",
      "source: -0.5823904723043046 1.2200058869487505\n",
      "image positions:  [ 2.49545322 -3.2658246  -0.43406108 -0.83444981] [ 3.28192359  3.73852272  4.43805726 -1.99585775]\n",
      "###############\n",
      "initial image position: 1.2285433511852109 4.1607764484457945\n",
      "source: -0.7215745893154144 1.3678118535015926\n",
      "image positions:  [-3.49027531  1.22854335  1.00170569 -0.75441639] [ 3.82794975  4.16077645  4.25437706 -1.86035257]\n",
      "###############\n",
      "initial image position: -1.3986311119335793 4.312169573523052\n",
      "source: -0.43107828293589356 1.149402292468014\n",
      "image positions:  [ 2.94742246 -2.68180247 -1.39863111 -0.92356413] [ 2.89653105  3.91464696  4.31216957 -2.04278794]\n",
      "###############\n",
      "initial image position: -3.6291087887239137 3.4710665194784394\n",
      "source: -0.6678485591630046 1.1554479633723553\n",
      "image positions:  [-3.62910879  2.35523731 -0.01040627 -0.7954822 ] [ 3.47106652  3.26685744  4.32108197 -2.06831125]\n",
      "###############\n"
     ]
    }
   ],
   "source": [
    "# # DCLS1507+0522: source 1, F200LP\n",
    "\n",
    "# x_image_s1_F200LP = np.array([1.2285433511852109, -1.3986311119335793, -3.6291087887239137, -0.8344498087021135])\n",
    "# y_image_s1_F200LP = np.array([4.1607764484457945, 4.312169573523052, 3.4710665194784394, -1.9958577504452544])\n",
    "\n",
    "x_image_s1_F200LP = np.array([-0.8344498087021135, 1.2285433511852109, -1.3986311119335793, -3.6291087887239137])\n",
    "y_image_s1_F200LP = np.array([-1.9958577504452544, 4.1607764484457945, 4.312169573523052, 3.4710665194784394])\n",
    "\n",
    "# # DCLS1507+0522_local_customlogL_fitF200LP_s1_run_11\n",
    "kwargs_pemd = {'theta_E': 4.923897427699637, \n",
    "                 'gamma': 2.0, \n",
    "                 'e1': -0.20087942999736097, \n",
    "                 'e2': 0.05268333713312042, \n",
    "                 'center_x': 0.0038999843035251564, \n",
    "                 'center_y': 0.00931611330505573}\n",
    "kwargs_shear = {'gamma_ext': -0.001807834284974115, \n",
    "                  'psi_ext': -0.02465806220709, \n",
    "                  'ra_0': 0, \n",
    "                  'dec_0': 0}\n",
    "\n",
    "kwargs_lens_list = [kwargs_pemd, kwargs_shear]\n",
    "\n",
    "##########################################################################################################\n",
    "##########################################################################################################\n",
    "\n",
    "kwargs_fit_s1, precision_s1 = solver4Point.constraint_lensmodel(x_pos=x_image_s1_F200LP, y_pos=y_image_s1_F200LP, \n",
    "                                                          kwargs_list=kwargs_lens_list, xtol=1.49012e-12)\n",
    "\n",
    "print('kwargs_fit_s1:', kwargs_fit_s1)\n",
    "print('#'*15)\n",
    "print('#'*15)\n",
    "\n",
    "##########################################################################################################\n",
    "##########################################################################################################\n",
    "\n",
    "for x, y in zip(x_image_s1_F200LP, y_image_s1_F200LP):\n",
    "    x_image, y_image = x, y\n",
    "    print('initial image position:', x_image, y_image)\n",
    "\n",
    "    alpha_x, alpha_y = lensModel.alpha(x_image, y_image, kwargs_fit_s1)\n",
    "\n",
    "    x_source, y_source = x_image-alpha_x, y_image-alpha_y\n",
    "\n",
    "    print('source:', x_source, y_source)\n",
    "\n",
    "    x_image, y_image = lensEquationSolver.image_position_from_source(kwargs_lens=kwargs_fit_s1, sourcePos_x=x_source, sourcePos_y=y_source, \n",
    "                                                                    min_distance=0.01, search_window=10, precision_limit=10**(-10), num_iter_max=100)\n",
    "    print('image positions: ', x_image, y_image)\n",
    "    print('#'*15)"
   ]
  },
  {
   "cell_type": "code",
   "execution_count": 6,
   "metadata": {},
   "outputs": [],
   "source": [
    "mass_phi, mass_q = lenstronomy.Util.param_util.ellipticity2phi_q(kwargs_fit_s1[0]['e1'], kwargs_fit_s1[0]['e2'])"
   ]
  },
  {
   "cell_type": "code",
   "execution_count": 7,
   "metadata": {},
   "outputs": [
    {
     "data": {
      "text/plain": [
       "1.4962162484662302"
      ]
     },
     "execution_count": 7,
     "metadata": {},
     "output_type": "execute_result"
    }
   ],
   "source": [
    "mass_phi"
   ]
  },
  {
   "cell_type": "code",
   "execution_count": null,
   "metadata": {},
   "outputs": [],
   "source": [
    "x_source, y_source = -0.6389054975957009, 0.50003220830970\n",
    "\n",
    "x_image, y_image = lensEquationSolver.image_position_from_source(kwargs_lens=kwargs_fit_s1, sourcePos_x=x_source, sourcePos_y=y_source, \n",
    "                                                                    min_distance=0.01, search_window=10, precision_limit=10**(-10), num_iter_max=100)\n",
    "\n",
    "print('image positions: ', x_image, y_image)"
   ]
  },
  {
   "cell_type": "code",
   "execution_count": null,
   "metadata": {},
   "outputs": [],
   "source": [
    "# # DCLS1507+0522: source 2, F200LP\n",
    "\n",
    "# x_image_s2_F200LP = np.array([-2.0628497614326937, -3.525668471279435, -2.298570140471534, 4.6994940741468145])\n",
    "# y_image_s2_F200LP = np.array([-2.489343251353538, -0.9910339637415673, 1.0811589757279219, 0.455225425191621])\n",
    "\n",
    "# # 'DCLS1507+0522_local_fitF200LP_source2_run_01'\n",
    "# kwargs_pemd_s2 = {'theta_E': 4.681144873731638,\n",
    "#                 'gamma': 1.9537360802952017,\n",
    "#                 'e1': -0.02612372779573666,\n",
    "#                 'e2': 0.029857785862846743,\n",
    "#                 'center_x': 0.004563909811417371,\n",
    "#                 'center_y': -0.0023023067843015205}\n",
    "# kwargs_shear_s2 = {'gamma_ext': -0.04301570982580052,\n",
    "#                 'psi_ext': 0.39288897638253,\n",
    "#                 'ra_0': 0,\n",
    "#                 'dec_0': 0}\n",
    "\n",
    "# kwargs_lens_list_s2 = [kwargs_pemd_s2, kwargs_shear_s2]\n",
    "\n",
    "# ##########################################################################################################\n",
    "# ##########################################################################################################\n",
    "\n",
    "# kwargs_fit_s2, precision_s2 = solver4Point.constraint_lensmodel(x_pos=x_image_s2_F200LP, y_pos=y_image_s2_F200LP, \n",
    "#                                                           kwargs_list=kwargs_lens_list_s2, xtol=1.49012e-12)\n",
    "\n",
    "# print('kwargs_fit_s2:', kwargs_fit_s2)\n",
    "# print('#'*15)\n",
    "# print('#'*15)\n",
    "\n",
    "# ##########################################################################################################\n",
    "# ##########################################################################################################\n",
    "\n",
    "# for x, y in zip(x_image_s2_F200LP, y_image_s2_F200LP):\n",
    "#     x_image, y_image = x, y\n",
    "#     print('initial image position:', x_image, y_image)\n",
    "\n",
    "#     alpha_x, alpha_y = lensModel.alpha(x_image, y_image, kwargs_fit_s2)\n",
    "\n",
    "#     x_source, y_source = x_image-alpha_x, y_image-alpha_y\n",
    "\n",
    "#     print('source:', x_source, y_source)\n",
    "\n",
    "#     x_image, y_image = lensEquationSolver.image_position_from_source(kwargs_lens=kwargs_fit_s2, sourcePos_x=x_source, sourcePos_y=y_source, \n",
    "#                                                                     min_distance=0.01, search_window=10, precision_limit=10**(-10), num_iter_max=100)\n",
    "#     print('image positions: ', x_image, y_image)\n",
    "#     print('#'*15)\n"
   ]
  },
  {
   "attachments": {},
   "cell_type": "markdown",
   "metadata": {},
   "source": [
    "### DCLS0854-0424"
   ]
  },
  {
   "cell_type": "code",
   "execution_count": null,
   "metadata": {},
   "outputs": [],
   "source": [
    "# # DCLS0854-0424\n",
    "\n",
    "# # x_source_1 = -0.5646987053268822 - (2*0.01)\n",
    "# # y_source_1 = 0.08835888499899273 + (22*0.01)\n",
    "\n",
    "# # x_source_2 = -0.343 - (53*0.01)\n",
    "# # y_source_2 = 0.08835888499899273 + (7*0.01)\n",
    "\n",
    "# # x_source_3 = -0.343 - (87*0.01)\n",
    "# # y_source_3 = 0.0393 + (25*0.01)\n",
    "\n",
    "# x_source_4 = -0.5646987053268822\n",
    "# y_source_4 = 0.08835888499899273\n",
    "\n",
    "# # print(x_source_1, y_source_1)\n",
    "# # print(x_source_2, y_source_2)\n",
    "# # print(x_source_3, y_source_3)\n",
    "\n",
    "# kwargs_pemd = {'theta_E': 2.404166080467353,\n",
    "#                'gamma': 1.8233280499535798,\n",
    "#                'e1': -0.059740982360995704,\n",
    "#                'e2': 0.1342377290890493,\n",
    "#                'center_x': 0.014621001392852512,\n",
    "#                'center_y': 0.08923949467809739}\n",
    "# kwargs_shear = {'gamma_ext': 0.10897252162554853,\n",
    "#                 'psi_ext': -0.81856514273551,\n",
    "#                 'ra_0': 0,\n",
    "#                 'dec_0': 0}\n",
    "\n",
    "# kwargs_lens_list = [kwargs_pemd, kwargs_shear]\n",
    "\n",
    "# # x_image_1, y_image_1 = lensEquationSolver.image_position_from_source(kwargs_lens=kwargs_lens_list, sourcePos_x=x_source_1, sourcePos_y=y_source_1, \n",
    "# #                                                                  min_distance=0.01, search_window=5, precision_limit=10**(-10), num_iter_max=100)\n",
    "# # print('image 1 positions: ', x_image_1, y_image_1)\n",
    "\n",
    "# # x_image_2, y_image_2 = lensEquationSolver.image_position_from_source(kwargs_lens=kwargs_lens_list, sourcePos_x=x_source_2, sourcePos_y=y_source_2, \n",
    "# #                                                                  min_distance=0.01, search_window=5, precision_limit=10**(-10), num_iter_max=100)\n",
    "# # print('image 2 positions: ', x_image_2, y_image_2)\n",
    "\n",
    "# # x_image_3, y_image_3 = lensEquationSolver.image_position_from_source(kwargs_lens=kwargs_lens_list, sourcePos_x=x_source_3, sourcePos_y=y_source_3, \n",
    "# #                                                                  min_distance=0.01, search_window=5, precision_limit=10**(-10), num_iter_max=100)\n",
    "# # print('image 3 positions: ', x_image_3, y_image_3)\n",
    "\n",
    "# x_image_4, y_image_4 = lensEquationSolver.image_position_from_source(kwargs_lens=kwargs_lens_list, sourcePos_x=x_source_4, sourcePos_y=y_source_4, \n",
    "#                                                                  min_distance=0.01, search_window=10, precision_limit=10**(-10), num_iter_max=100)\n",
    "# print('image 4 positions: ', x_image_4, y_image_4)"
   ]
  },
  {
   "cell_type": "code",
   "execution_count": null,
   "metadata": {},
   "outputs": [],
   "source": [
    "# x_image, y_image = -2.754930458103047, -0.5003156080121595\n",
    "\n",
    "# alpha_x, alpha_y = lensModel.alpha(x_image, y_image, kwargs_lens_list)\n",
    "\n",
    "# x_source, y_source = x_image-alpha_x, y_image-alpha_y\n",
    "\n",
    "# print(x_source, y_source)\n",
    "\n",
    "# x_image, y_image = lensEquationSolver.image_position_from_source(kwargs_lens=kwargs_lens_list, sourcePos_x=x_source, sourcePos_y=y_source, \n",
    "#                                                                  min_distance=0.01, search_window=10, precision_limit=10**(-10), num_iter_max=100)\n",
    "# print('image positions: ', x_image, y_image)"
   ]
  },
  {
   "cell_type": "markdown",
   "metadata": {},
   "source": [
    "F140W Info:\n",
    "\n",
    "Lens center: 0.6491 0.1451\n",
    "Image 1, 2 RA: 2.1056694526151 -2.1446663684802947\n",
    "Image 1, 2 DEC: 0.16656821131187893 -0.09666993968892257\n",
    "theta E estimate: 2.129037341147402"
   ]
  },
  {
   "cell_type": "code",
   "execution_count": null,
   "metadata": {},
   "outputs": [],
   "source": [
    "# x_image, y_image known values\n",
    "# x_image_F140W = [2.1056694526151, -2.1446663684802947]\n",
    "# y_image_F140W = [0.16656821131187893, -0.09666993968892257]\n",
    "\n",
    "# print('F140W image positions: ', x_image_F140W)"
   ]
  },
  {
   "cell_type": "markdown",
   "metadata": {},
   "source": [
    "F200LP Info:\n",
    "\n",
    "Lens center: 0.6455 0.1236\n",
    "Image 1, 2 RA: 2.097939804907363 -2.1223084092251288\n",
    "Image 1, 2 DEC: 0.13923809099998685 -0.09555221154370663\n",
    "theta E estimate: 2.1132025459004162"
   ]
  },
  {
   "cell_type": "code",
   "execution_count": null,
   "metadata": {},
   "outputs": [],
   "source": [
    "# x_image, y_image known values\n",
    "# x_image_F200LP = [2.097939804907363, -2.1223084092251288]\n",
    "# y_image_F200LP = [0.13923809099998685, -0.09555221154370663]\n",
    "\n",
    "# print('F200LP image positions: ', x_image_F200LP)"
   ]
  },
  {
   "cell_type": "code",
   "execution_count": null,
   "metadata": {},
   "outputs": [],
   "source": [
    "# fit the same lens model parameterization to the 4 image positions (free SPEMD model)\n",
    "# the initial guess of the model can be rather different but 'gamma' has to be kept fixed\n",
    "# kwargs_lens_init = copy.deepcopy(kwargs_lens_list)\n",
    "# 'theta_E': 2.311432821867558, 'e1': -0.18785019961075974, 'e2': -0.12607809088893723\n",
    "# kwargs_lens_init_F140W = [{'theta_E': 2.129037341147402, 'gamma': 2., 'e1': -0.1581155373378608, 'e2': -0.10765765074677205, 'center_x': 0.6491, 'center_y': 0.1451}]\n",
    "\n",
    "# kwargs_fit_F140W, precision_F140W = solver2Point.constraint_lensmodel(x_pos=x_image_F140W, y_pos=y_image_F140W, \n",
    "#                                                           kwargs_list=kwargs_lens_init_F140W, xtol=1.49012e-10)\n",
    "\n",
    "# kwargs_lens_init_F200LP = [{'theta_E': 2.1132025459004162, 'gamma': 2., 'e1': -0.19999967644529903, 'e2':  0.0258232185418328, 'center_x': 0.6455, 'center_y': 0.1236}]\n",
    "\n",
    "# kwargs_fit_F200LP, precision_F200LP = solver2Point.constraint_lensmodel(x_pos=x_image_F200LP, y_pos=y_image_F200LP, \n",
    "#                                                           kwargs_list=kwargs_lens_init_F200LP, xtol=1.49012e-10)"
   ]
  },
  {
   "cell_type": "code",
   "execution_count": null,
   "metadata": {},
   "outputs": [],
   "source": [
    "# x_source_new_F140W, y_source_new_F140W = lensModel.ray_shooting(x_image_F140W, y_image_F140W, kwargs_fit_F140W)\n",
    "# print('F140W source center:', x_source_new_F140W, y_source_new_F140W)\n",
    "\n",
    "# x_source_new_F200LP, y_source_new_F200LP = lensModel.ray_shooting(x_image_F200LP, y_image_F200LP, kwargs_fit_F200LP)\n",
    "# print('F200LP source center:', x_source_new_F200LP, y_source_new_F200LP)"
   ]
  },
  {
   "cell_type": "code",
   "execution_count": null,
   "metadata": {},
   "outputs": [],
   "source": [
    "# kwargs_fit_F140W"
   ]
  },
  {
   "cell_type": "code",
   "execution_count": null,
   "metadata": {},
   "outputs": [],
   "source": [
    "# kwargs_fit_F200LP"
   ]
  },
  {
   "attachments": {},
   "cell_type": "markdown",
   "metadata": {},
   "source": [
    "### DESI-118.8480+34.7610"
   ]
  },
  {
   "cell_type": "code",
   "execution_count": null,
   "metadata": {},
   "outputs": [],
   "source": [
    "# # # DESI-118.8480+34.7610: F606W\n",
    "\n",
    "# # Image 1: (1.3548411332053694, 1.2684487670194255)\n",
    "# # Image 2: (-0.7992269031586487, 2.2488218940396862)\n",
    "# # Image 3: (-1.907215173224024, 0.16167868755750048)\n",
    "# # Image 4: (1.3939117056447436, -1.7841665845670103)\n",
    "\n",
    "# x_image_s1_F200LP = np.array([1.3548411332053694, -0.7992269031586487, -1.907215173224024, 1.3939117056447436])\n",
    "# y_image_s1_F200LP = np.array([1.2684487670194255, 2.2488218940396862, 0.16167868755750048, -1.7841665845670103])\n",
    "\n",
    "# # # DCLS1507+0522_local_customlogL_fitF200LP_s1_run_11\n",
    "# kwargs_pemd = {'theta_E': 2.217815519520389,\n",
    "#                 'gamma': 2.229256699205595,\n",
    "#                 'e1': 0.19883947353154727,\n",
    "#                 'e2': -0.10222795879338925,\n",
    "#                 'center_x': -0.007,\n",
    "#                 'center_y': 0.4194}\n",
    "# kwargs_shear = {'gamma_ext': 0.020453977173297545,\n",
    "#                 'psi_ext': 1.1857456084047209,\n",
    "#                 'ra_0': 0,\n",
    "#                 'dec_0': 0}\n",
    "\n",
    "# kwargs_lens_list = [kwargs_pemd, kwargs_shear]\n",
    "\n",
    "# ##########################################################################################################\n",
    "# ##########################################################################################################\n",
    "\n",
    "# kwargs_fit_s1, precision_s1 = solver4Point.constraint_lensmodel(x_pos=x_image_s1_F200LP, y_pos=y_image_s1_F200LP, \n",
    "#                                                           kwargs_list=kwargs_lens_list, xtol=1.49012e-12)\n",
    "\n",
    "# print('kwargs_fit_s1:', kwargs_fit_s1)\n",
    "# print('#'*15)\n",
    "# print('#'*15)\n",
    "\n",
    "# ##########################################################################################################\n",
    "# ##########################################################################################################\n",
    "\n",
    "# for x, y in zip(x_image_s1_F200LP, y_image_s1_F200LP):\n",
    "#     x_image, y_image = x, y\n",
    "#     print('initial image position:', x_image, y_image)\n",
    "\n",
    "#     alpha_x, alpha_y = lensModel.alpha(x_image, y_image, kwargs_fit_s1)\n",
    "\n",
    "#     x_source, y_source = x_image-alpha_x, y_image-alpha_y\n",
    "\n",
    "#     print('source:', x_source, y_source)\n",
    "\n",
    "#     x_image, y_image = lensEquationSolver.image_position_from_source(kwargs_lens=kwargs_fit_s1, sourcePos_x=x_source, sourcePos_y=y_source, \n",
    "#                                                                     min_distance=0.01, search_window=10, precision_limit=10**(-10), num_iter_max=100)\n",
    "#     print('image positions: ', x_image, y_image)\n",
    "#     print('#'*15)"
   ]
  },
  {
   "attachments": {},
   "cell_type": "markdown",
   "metadata": {},
   "source": [
    "### some plots"
   ]
  },
  {
   "cell_type": "code",
   "execution_count": null,
   "metadata": {},
   "outputs": [],
   "source": [
    "# # make a pixel grid suited for plotting\n",
    "# from lenstronomy.Util import util\n",
    "\n",
    "\n",
    "\n",
    "# x_grid, y_grid = util.make_grid(numPix=500, deltapix=0.01)\n",
    "\n",
    "# # plot convergence\n",
    "\n",
    "# kappa_grid = lensModel.kappa(x_grid, y_grid, kwargs_fit_F140W)\n",
    "# kappa2d_fit = util.array2image(kappa_grid)\n",
    "\n",
    "\n",
    "# f, axes = plt.subplots(1, 1, figsize=(12, 4), sharex=False, sharey=False)\n",
    "\n",
    "\n",
    "# ax = axes\n",
    "# im = ax.matshow(np.log10(kappa2d_fit), origin='lower')\n",
    "# ax.text(1, 1, 'convergence, F140W')\n",
    "# ax.autoscale(False)\n",
    "# divider = make_axes_locatable(ax)\n",
    "# cax = divider.append_axes(\"right\", size=\"5%\", pad=0.05)\n",
    "# plt.colorbar(im, cax=cax)\n",
    "\n",
    "# plt.show()\n",
    "\n",
    "# # plot magnification\n",
    "\n",
    "# mag_grid = lensModel.magnification(x_grid, y_grid, kwargs_fit_F140W)\n",
    "# mag2d_fit = util.array2image(mag_grid)\n",
    "\n",
    "\n",
    "# import matplotlib.pyplot as plt\n",
    "# %matplotlib inline\n",
    "# from mpl_toolkits.axes_grid1 import AxesGrid, make_axes_locatable\n",
    "\n",
    "# f, axes = plt.subplots(1, 1, figsize=(12, 4), sharex=False, sharey=False)\n",
    "\n",
    "\n",
    "# ax = axes\n",
    "# im = ax.matshow(mag2d_fit, origin='lower', vmin=-10, vmax=10)\n",
    "# ax.text(1, 1, 're-fit model with solver and substructure, F140W')\n",
    "# ax.autoscale(False)\n",
    "# divider = make_axes_locatable(ax)\n",
    "# cax = divider.append_axes(\"right\", size=\"5%\", pad=0.05)\n",
    "# plt.colorbar(im, cax=cax)\n",
    "\n",
    "\n",
    "# plt.show()\n",
    "\n",
    "\n"
   ]
  },
  {
   "cell_type": "code",
   "execution_count": null,
   "metadata": {},
   "outputs": [],
   "source": [
    "# # make a pixel grid suited for plotting\n",
    "# from lenstronomy.Util import util\n",
    "\n",
    "\n",
    "\n",
    "# x_grid, y_grid = util.make_grid(numPix=500, deltapix=0.01)\n",
    "\n",
    "# # plot convergence\n",
    "\n",
    "# kappa_grid = lensModel.kappa(x_grid, y_grid, kwargs_fit_F200LP)\n",
    "# kappa2d_fit = util.array2image(kappa_grid)\n",
    "\n",
    "\n",
    "# f, axes = plt.subplots(1, 1, figsize=(12, 4), sharex=False, sharey=False)\n",
    "\n",
    "\n",
    "# ax = axes\n",
    "# im = ax.matshow(np.log10(kappa2d_fit), origin='lower')\n",
    "# ax.text(1, 1, 'convergence, F200LP')\n",
    "# ax.autoscale(False)\n",
    "# divider = make_axes_locatable(ax)\n",
    "# cax = divider.append_axes(\"right\", size=\"5%\", pad=0.05)\n",
    "# plt.colorbar(im, cax=cax)\n",
    "\n",
    "# plt.show()\n",
    "\n",
    "# # plot magnification\n",
    "\n",
    "# mag_grid = lensModel.magnification(x_grid, y_grid, kwargs_fit_F200LP)\n",
    "# mag2d_fit = util.array2image(mag_grid)\n",
    "\n",
    "\n",
    "# import matplotlib.pyplot as plt\n",
    "# %matplotlib inline\n",
    "# from mpl_toolkits.axes_grid1 import AxesGrid, make_axes_locatable\n",
    "\n",
    "# f, axes = plt.subplots(1, 1, figsize=(12, 4), sharex=False, sharey=False)\n",
    "\n",
    "\n",
    "# ax = axes\n",
    "# im = ax.matshow(mag2d_fit, origin='lower', vmin=-10, vmax=10)\n",
    "# ax.text(1, 1, 're-fit model with solver and substructure, F200LP')\n",
    "# ax.autoscale(False)\n",
    "# divider = make_axes_locatable(ax)\n",
    "# cax = divider.append_axes(\"right\", size=\"5%\", pad=0.05)\n",
    "# plt.colorbar(im, cax=cax)\n",
    "\n",
    "\n",
    "# plt.show()\n",
    "\n",
    "\n"
   ]
  }
 ],
 "metadata": {
  "kernelspec": {
   "display_name": "Python 3 (ipykernel)",
   "language": "python",
   "name": "python3"
  },
  "language_info": {
   "codemirror_mode": {
    "name": "ipython",
    "version": 3
   },
   "file_extension": ".py",
   "mimetype": "text/x-python",
   "name": "python",
   "nbconvert_exporter": "python",
   "pygments_lexer": "ipython3",
   "version": "3.9.13"
  },
  "vscode": {
   "interpreter": {
    "hash": "3865d0cb63030e7f0dc977b947e0361d13ca7b4f5f7c79ba86571fbb87f89e1f"
   }
  }
 },
 "nbformat": 4,
 "nbformat_minor": 2
}
